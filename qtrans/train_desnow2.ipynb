{
  "cells": [
    {
      "cell_type": "markdown",
      "metadata": {
        "id": "view-in-github",
        "colab_type": "text"
      },
      "source": [
        "<a href=\"https://colab.research.google.com/github/vfrantc/qtrans/blob/main/train_desnow2.ipynb\" target=\"_parent\"><img src=\"https://colab.research.google.com/assets/colab-badge.svg\" alt=\"Open In Colab\"/></a>"
      ]
    },
    {
      "cell_type": "code",
      "execution_count": 1,
      "metadata": {
        "colab": {
          "base_uri": "https://localhost:8080/"
        },
        "id": "CP1v-XBKTbtZ",
        "outputId": "698069f0-1f99-44b5-dcf7-1e8cb0e4c877"
      },
      "outputs": [
        {
          "output_type": "stream",
          "name": "stdout",
          "text": [
            "Wed Apr 20 21:29:09 2022       \n",
            "+-----------------------------------------------------------------------------+\n",
            "| NVIDIA-SMI 460.32.03    Driver Version: 460.32.03    CUDA Version: 11.2     |\n",
            "|-------------------------------+----------------------+----------------------+\n",
            "| GPU  Name        Persistence-M| Bus-Id        Disp.A | Volatile Uncorr. ECC |\n",
            "| Fan  Temp  Perf  Pwr:Usage/Cap|         Memory-Usage | GPU-Util  Compute M. |\n",
            "|                               |                      |               MIG M. |\n",
            "|===============================+======================+======================|\n",
            "|   0  Tesla V100-SXM2...  Off  | 00000000:00:04.0 Off |                    0 |\n",
            "| N/A   37C    P0    23W / 300W |      0MiB / 16160MiB |      0%      Default |\n",
            "|                               |                      |                  N/A |\n",
            "+-------------------------------+----------------------+----------------------+\n",
            "                                                                               \n",
            "+-----------------------------------------------------------------------------+\n",
            "| Processes:                                                                  |\n",
            "|  GPU   GI   CI        PID   Type   Process name                  GPU Memory |\n",
            "|        ID   ID                                                   Usage      |\n",
            "|=============================================================================|\n",
            "|  No running processes found                                                 |\n",
            "+-----------------------------------------------------------------------------+\n"
          ]
        }
      ],
      "source": [
        "!nvidia-smi"
      ]
    },
    {
      "cell_type": "code",
      "execution_count": 2,
      "metadata": {
        "colab": {
          "base_uri": "https://localhost:8080/"
        },
        "id": "YlLzEENWOzRa",
        "outputId": "11c33458-9e3a-409e-bb51-2526ce52c18c"
      },
      "outputs": [
        {
          "output_type": "stream",
          "name": "stdout",
          "text": [
            "Cloning into 'TransWeather'...\n",
            "remote: Enumerating objects: 59, done.\u001b[K\n",
            "remote: Counting objects: 100% (22/22), done.\u001b[K\n",
            "remote: Compressing objects: 100% (15/15), done.\u001b[K\n",
            "remote: Total 59 (delta 10), reused 15 (delta 6), pack-reused 37\u001b[K\n",
            "Unpacking objects: 100% (59/59), done.\n"
          ]
        }
      ],
      "source": [
        "!git clone https://github.com/vfrantc/TransWeather.git"
      ]
    },
    {
      "cell_type": "code",
      "execution_count": 3,
      "metadata": {
        "colab": {
          "base_uri": "https://localhost:8080/"
        },
        "id": "xar_HRF4O2k0",
        "outputId": "532785a8-33ef-46f8-ed49-c872811f67e7"
      },
      "outputs": [
        {
          "output_type": "stream",
          "name": "stdout",
          "text": [
            "/content/TransWeather\n"
          ]
        }
      ],
      "source": [
        "%cd TransWeather"
      ]
    },
    {
      "cell_type": "code",
      "execution_count": 4,
      "metadata": {
        "colab": {
          "base_uri": "https://localhost:8080/"
        },
        "id": "ZySi2imEO-8p",
        "outputId": "04b164b4-5b0f-4447-bef9-e1082a407e1d"
      },
      "outputs": [
        {
          "output_type": "stream",
          "name": "stdout",
          "text": [
            "Mounted at drive\n"
          ]
        }
      ],
      "source": [
        "from google.colab import drive\n",
        "drive.mount('drive')"
      ]
    },
    {
      "cell_type": "code",
      "execution_count": null,
      "metadata": {
        "id": "Avz15u_736Ox"
      },
      "outputs": [],
      "source": [
        "!cp drive/MyDrive/derain/data.tar.gz ."
      ]
    },
    {
      "cell_type": "code",
      "execution_count": null,
      "metadata": {
        "id": "pU5jN81I55gO"
      },
      "outputs": [],
      "source": [
        "!tar xzvf data.tar.gz"
      ]
    },
    {
      "cell_type": "code",
      "execution_count": null,
      "metadata": {
        "id": "10TG1dILljKh"
      },
      "outputs": [],
      "source": [
        "!pip install timm\n",
        "!pip install mmcv-full==1.3.9 -f https://download.openmmlab.com/mmcv/dist/cu111/torch1.10.0/index.html"
      ]
    },
    {
      "cell_type": "code",
      "source": [
        "!mkdir ./training_log"
      ],
      "metadata": {
        "id": "ZKxzCqc0L5oS"
      },
      "execution_count": null,
      "outputs": []
    },
    {
      "cell_type": "code",
      "execution_count": null,
      "metadata": {
        "id": "e0wGFKFWUxQF"
      },
      "outputs": [],
      "source": [
        "#!python train.py  -train_batch_size 32 -exp_name Transweather -epoch_start 0 -num_epochs 250\n",
        "!python train.py  -train_batch_size 32 -exp_name Transweather -epoch_start 0 -num_epochs 5"
      ]
    },
    {
      "cell_type": "markdown",
      "source": [
        "# TODO: Compress and save the model"
      ],
      "metadata": {
        "id": "MguDAgMNMfwy"
      }
    },
    {
      "cell_type": "code",
      "source": [
        "!zip -r Transweather.zip ./Transweather/"
      ],
      "metadata": {
        "id": "mTb4nM5vRmO9"
      },
      "execution_count": null,
      "outputs": []
    },
    {
      "cell_type": "code",
      "execution_count": null,
      "metadata": {
        "id": "7_aFIvhUf_-L"
      },
      "outputs": [],
      "source": [
        "!cp Transweather.zip drive/MyDrive/derain"
      ]
    },
    {
      "cell_type": "markdown",
      "source": [
        "# TODO: Write the prediction code"
      ],
      "metadata": {
        "id": "etewwYeXMcp5"
      }
    },
    {
      "cell_type": "code",
      "execution_count": null,
      "metadata": {
        "id": "QWfFrlsmI7WP"
      },
      "outputs": [],
      "source": [
        ""
      ]
    }
  ],
  "metadata": {
    "accelerator": "GPU",
    "colab": {
      "name": "train_desnow2.ipynb",
      "provenance": [],
      "authorship_tag": "ABX9TyOPrpcm4LlhO/B7ctPDVzMH",
      "include_colab_link": true
    },
    "kernelspec": {
      "display_name": "Python 3",
      "name": "python3"
    },
    "language_info": {
      "name": "python"
    }
  },
  "nbformat": 4,
  "nbformat_minor": 0
}